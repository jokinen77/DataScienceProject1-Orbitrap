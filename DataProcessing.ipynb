{
 "cells": [
  {
   "cell_type": "code",
   "execution_count": 127,
   "metadata": {},
   "outputs": [],
   "source": [
    "import numpy as np\n",
    "\n",
    "def findPeakIndices(data):\n",
    "    n = int(round(sum(data[:,1] == 0)/2))\n",
    "    indices = np.zeros([n,2], dtype=\"uint32\")\n",
    "    a = False\n",
    "    ii = 0\n",
    "    for i in range(len(data[:,1])-1):\n",
    "        if data[i,1] == 0 and a:\n",
    "            indices[ii, 1] = i - 1\n",
    "            if ii != n:\n",
    "                indices[ii+1, 0] = i\n",
    "            ii += 1\n",
    "        a = data[i,1] == 0\n",
    "    last = n-sum(indices[:,0]>=indices[:,1])\n",
    "    indices = indices[0:last+1,:]\n",
    "    indices[last, 1] = len(data[:,0]) - 1\n",
    "    return indices"
   ]
  },
  {
   "cell_type": "code",
   "execution_count": 82,
   "metadata": {},
   "outputs": [],
   "source": [
    "from scipy.optimize import leastsq\n",
    "import numpy as np\n",
    "\n",
    "def getMean(peak):\n",
    "    mu = np.average(peak[:,0], weights=peak[:,1])\n",
    "    sigma = (mu/280000)/(2*np.log(2))\n",
    "    fit  = lambda p, x: p[0]*np.exp(-0.5*((x-p[1])/sigma)**2)\n",
    "    err  = lambda p, x, y: (y - fit(p, x))\n",
    "    init  = [1.0, mu]\n",
    "    out = leastsq(err, init, args=(peak[:,0], peak[:,1]))\n",
    "    c = out[0]\n",
    "    return c[1]"
   ]
  },
  {
   "cell_type": "code",
   "execution_count": 130,
   "metadata": {},
   "outputs": [],
   "source": [
    "import numpy as np\n",
    "\n",
    "def getAllMeans(peaks):\n",
    "    indices = findPeakIndices(peaks)\n",
    "    n = len(indices[:,0])\n",
    "    means = np.zeros(n)\n",
    "    for i in range(n):\n",
    "        peak = peaks[indices[i,0]:indices[i,1]+1,:]\n",
    "        means[i] = getMean(peak)\n",
    "    return means"
   ]
  },
  {
   "cell_type": "code",
   "execution_count": 131,
   "metadata": {},
   "outputs": [
    {
     "name": "stdout",
     "output_type": "stream",
     "text": [
      "[ 61.97269482  61.98244144  61.98283679  61.98335711  61.98384305\n",
      "  61.9883735   61.99202763  61.99266712  61.99384863  62.0040634\n",
      "  62.98543084  62.99261361  63.99263084  76.06652499  86.1982139\n",
      "  88.98813146 103.00376407 109.09415801 112.98567157 117.01940061\n",
      " 123.98871838 124.9391244  124.98400175 124.98764312 124.98846997\n",
      " 125.02894401 125.98103635 125.98822466 126.98827203 133.01427355\n",
      " 133.98434386 141.52596266 142.49013706 145.01425262 146.99350067\n",
      " 147.02993603 148.03331565 159.02991438 161.00918878 161.04557078\n",
      " 165.99936357 173.04552876 175.02476644 175.98114797 185.04556037\n",
      " 187.06121246 189.04043631 192.01497819 193.94260186 194.98867711\n",
      " 201.04044571 201.07703106 203.05613085 206.03064565 208.00990814\n",
      " 208.04628151 210.0255283  213.0768901  215.05625913 215.09241787\n",
      " 217.07169499 220.00986659 220.0462059  222.025488   224.00476033\n",
      " 224.04125145 231.08745669 234.02549221 234.06190774 235.06539123\n",
      " 236.04117618 236.0775128  238.02033118 244.98541835 248.04119327\n",
      " 249.04468321 250.02080416 250.05683704 250.09327796 251.06009316\n",
      " 252.03605005 262.05649361 264.03568226 264.07207758 266.05140392\n",
      " 276.03589672 276.0725242  278.05167646 278.08793871 279.0552462\n",
      " 279.27728502 280.06731526 292.06727002 294.08283683 295.0418101\n",
      " 295.08659709 297.10184828 306.08259252 308.06211158 310.07760618\n",
      " 324.05722576 336.05714491 436.36883073 459.1546933  667.69067742\n",
      " 675.62852345 718.48417052 718.50671882 718.52497757 718.54179203\n",
      " 718.56064401 718.64341845]\n"
     ]
    }
   ],
   "source": [
    "# example\n",
    "\n",
    "import numpy as np\n",
    "import pandas as pd\n",
    "\n",
    "fileName = \"data/N_minutes_60_N_spectra_10/spectrum_2020-00-17_17_11_07.csv\"\n",
    "data = pd.read_csv(fileName).iloc[3:,:2].to_numpy().astype(\"float64\")\n",
    "\n",
    "peakMeans = getAllMeans(data)\n",
    "\n",
    "print(peakMeans)"
   ]
  }
 ],
 "metadata": {
  "kernelspec": {
   "display_name": "Python 3",
   "language": "python",
   "name": "python3"
  },
  "language_info": {
   "codemirror_mode": {
    "name": "ipython",
    "version": 3
   },
   "file_extension": ".py",
   "mimetype": "text/x-python",
   "name": "python",
   "nbconvert_exporter": "python",
   "pygments_lexer": "ipython3",
   "version": "3.8.3"
  }
 },
 "nbformat": 4,
 "nbformat_minor": 4
}
