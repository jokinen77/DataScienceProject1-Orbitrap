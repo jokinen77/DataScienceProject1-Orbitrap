{
 "cells": [
  {
   "cell_type": "markdown",
   "metadata": {},
   "source": [
    "# Data Science Project 1 -  Improve the mass accuracy of spectra measured by Orbitrap mass spectrometers (orbitrap)\n",
    "\n",
    "**Client:** Atmospheric Physical Chemistry group, INAR, University of Helsinki\n",
    "\n",
    "**Description:** Motivation: When using a mass spectrometer, the measured mass usually shifts from its true mass. Hence, a mass calibration is an important procedure before allocating chemical formulae to the measured masses. A good mass calibration may greatly reduce the efforts of further analysis and increase the reliability of the results. Goals: Improve the mass calibration procedure for Orbitrap raw data, and perhaps for data measured by other mass spectrometers, e.g, TOF-MS Main tasks: 1) Test several fitting function for mass correction, and recommend one or a few that works best. 2) Test the performance of different parameters for mass correction, e.g., number of mass of the species for calibration.\n",
    "\n",
    "**Data and tools:** Data: raw spectrum data measured by Orbitrap mass spectrometer. Tools: a) Orbitool, provided by the client. Orbitool will be used for reading the raw data and remove the noise, i.e., prepare the data for this analysis; b) Any programming language, which will be used to investigate this mass calibration problem.\n",
    "\n",
    "## Notebook practises\n",
    "\n",
    "* Clear outputs before commiting to git!\n",
    "\n",
    "## Environment\n",
    "\n",
    "The environment should have the dependencies to run Orbitool and this notebook.\n",
    "\n",
    "```bash\n",
    "# Import environment\n",
    "conda env create -f environment.yml\n",
    "\n",
    "# Import kernel to jupyter\n",
    "ipython kernel install --user --name=orbitool\n",
    "\n",
    "# Export the environment to file\n",
    "conda env export --no-builds > environment.yml\n",
    "```\n",
    "\n",
    "## Dependencies"
   ]
  },
  {
   "cell_type": "code",
   "execution_count": null,
   "metadata": {},
   "outputs": [],
   "source": [
    "import pandas as pd\n",
    "from os import listdir\n",
    "from os.path import isfile, join\n",
    "import seaborn as sns\n",
    "import matplotlib.pyplot as plt\n",
    "import random"
   ]
  },
  {
   "cell_type": "markdown",
   "metadata": {},
   "source": [
    "## Data exploration\n",
    "\n",
    "### Read the spectrum data"
   ]
  },
  {
   "cell_type": "code",
   "execution_count": null,
   "metadata": {},
   "outputs": [],
   "source": [
    "spectrum_data_directory = \"test\"\n",
    "peak_list_file = \"peak list\\peaklist_1e5_background.csv\"\n",
    "random_sample_size = 10 # Take sample spectrums to speed up things. If 'None' then uses all the spectrums\n",
    "\n",
    "spectrum_data_files = []\n",
    "time_data = []\n",
    "spectrum_data = []\n",
    "\n",
    "# Get data files\n",
    "for file in [f for f in listdir(spectrum_data_directory) if isfile(join(spectrum_data_directory, f))]:\n",
    "    path_to_file = join(spectrum_data_directory, file)\n",
    "    #print(path_to_file)\n",
    "    if file.endswith(\".csv\"):\n",
    "        spectrum_data_files.append(path_to_file)\n",
    "\n",
    "# Take sample spectrums to speed up things\n",
    "if random_sample_size:\n",
    "    spectrum_data_files = random.sample(spectrum_data_files, 20)\n",
    "\n",
    "# Read the spectrum files\n",
    "for file in spectrum_data_files:\n",
    "    time_data.append(pd.read_csv(file)[:2])\n",
    "    spectrum_data.append(pd.read_csv(file, skiprows = 3))\n",
    "\n",
    "peak_list = pd.read_csv(peak_list_file)\n",
    "\n",
    "# Lookup\n",
    "spectrum_data[0].head(5)"
   ]
  },
  {
   "cell_type": "markdown",
   "metadata": {},
   "source": [
    "### Plot spectrums"
   ]
  },
  {
   "cell_type": "code",
   "execution_count": null,
   "metadata": {},
   "outputs": [],
   "source": [
    "%matplotlib notebook\n",
    "sns.set_theme(style=\"whitegrid\")\n",
    "df = pd.concat(spectrum_data, keys=range(len(spectrum_data_files)), names=[\"spectrum\"])\n",
    "fig, ax = plt.subplots(figsize=(8,6))\n",
    "sns.lineplot(data=df, ax=ax, x=\"mz\", y=\"intensity\", hue=\"spectrum\", palette=\"tab10\")\n",
    "eps = 0.0001\n",
    "for index, row in peak_list.iterrows():\n",
    "    mz = row[\"mz\"]\n",
    "    formula = row[\"formula\"]\n",
    "    max_intensity = max([x for x in df.loc[(df[\"mz\"] > mz - eps) & (df[\"mz\"] < mz + eps)].intensity.values] + [0.0])\n",
    "    plt.plot((mz,mz), (0.0,max_intensity), linestyle=\"--\")"
   ]
  },
  {
   "cell_type": "code",
   "execution_count": null,
   "metadata": {},
   "outputs": [],
   "source": []
  }
 ],
 "metadata": {
  "kernelspec": {
   "display_name": "orbitool",
   "language": "python",
   "name": "orbitool"
  },
  "language_info": {
   "codemirror_mode": {
    "name": "ipython",
    "version": 3
   },
   "file_extension": ".py",
   "mimetype": "text/x-python",
   "name": "python",
   "nbconvert_exporter": "python",
   "pygments_lexer": "ipython3",
   "version": "3.8.3"
  }
 },
 "nbformat": 4,
 "nbformat_minor": 4
}
