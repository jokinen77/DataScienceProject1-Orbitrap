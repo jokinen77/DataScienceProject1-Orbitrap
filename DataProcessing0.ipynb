{
 "cells": [
  {
   "cell_type": "markdown",
   "metadata": {},
   "source": [
    "# Development version 17.3.21:1200"
   ]
  },
  {
   "cell_type": "code",
   "execution_count": 1,
   "metadata": {},
   "outputs": [],
   "source": [
    "import numpy as np\n",
    "\n",
    "# This method finds the location of all peaks in the full spectrum\n",
    "# Output (Indices) contains the start index and end index of each peak\n",
    "\n",
    "def findAllPeakIndices(data):\n",
    "    n = int(round(sum(data[:,1] == 0)/2))\n",
    "    \n",
    "#    print(sum(data[:,1] == 0))  # if this was 217 => n=108\n",
    "# n is the number of zeros/2 (but that is not the final count..)\n",
    "# output is index ranges: each peak starts and ends with a zero\n",
    "# so that there are two zeros between each peak\n",
    "\n",
    "    indices = np.zeros([n,2], dtype=\"uint32\")\n",
    "    a = False\n",
    "    ii = 0\n",
    "\n",
    "    for i in range(len(data[:,1])-1):\n",
    "        if data[i,1] == 0 and a:\n",
    "            indices[ii, 1] = i - 1\n",
    "            if ii != n:\n",
    "                indices[ii+1, 0] = i\n",
    "            ii += 1\n",
    "        a = data[i,1] == 0\n",
    "    last = n-sum(indices[:,0]>=indices[:,1])  # notice '='\n",
    "#    print(last)  = 106\n",
    "    indices = indices[0:last+1,:]\n",
    "    indices[last, 1] = len(data[:,0]) - 1\n",
    "#    print(len(indices))   # why now 107?\n",
    "# OK, if you have only one zero, then it is not a separation mark for peaks \n",
    "    return indices\n",
    "\n",
    "# Essentially same as JKo 4.3."
   ]
  },
  {
   "cell_type": "code",
   "execution_count": 155,
   "metadata": {},
   "outputs": [],
   "source": [
    "#import numpy as np\n",
    "#import pandas as pd\n",
    "#\n",
    "#def readFile(fileName):\n",
    "#    return pd.read_csv(fileName).iloc[3:,:2].to_numpy().astype(\"float64\")\n",
    "\n",
    "# New 4.3."
   ]
  },
  {
   "cell_type": "code",
   "execution_count": 77,
   "metadata": {},
   "outputs": [],
   "source": [
    "from scipy.optimize import leastsq\n",
    "import numpy as np\n",
    "import math\n",
    "\n",
    "def getMean(peak):\n",
    "    mu = np.average(peak[:,0], weights=peak[:,1])  # painotettu keskiarvo\n",
    "\n",
    "#    sigma = (mu/280000)/(2*np.log(2))    # was Koli\n",
    "#    fitfunc  = lambda p, x: p[0]*np.exp(-((x-p[1])/(2*sigma))**2)   # was Koli    \n",
    "\n",
    "    sigma = mu/(280000*2*np.sqrt(2*np.log(2)))\n",
    "    fitfunc = lambda p, x: p[0]*np.exp(-0.5*((x-p[1])/sigma)**2)\n",
    "\n",
    "    errfunc  = lambda p, x, y: (y - fitfunc(p, x))\n",
    "    init  = [1.0, mu]\n",
    "\n",
    "    out = leastsq(errfunc, init, args=(peak[:,0], peak[:,1]))                 \n",
    "    c = out[0]\n",
    "    return c[1]\n",
    "\n",
    "# 4.3. JKo corrected 17.3. by KO"
   ]
  },
  {
   "cell_type": "code",
   "execution_count": 3,
   "metadata": {},
   "outputs": [],
   "source": [
    "import numpy as np\n",
    "\n",
    "def getAllMeans(peaks,indices):\n",
    "#    indices = findAllPeakIndices(peaks)\n",
    "    n = len(indices)  \n",
    "\n",
    "    means = np.zeros(n)\n",
    "    for i in range(n):\n",
    "        peak = peaks[indices[i,0]:indices[i,1]+1,:]\n",
    "        means[i] = getMean(peak)\n",
    "    return means\n",
    "\n",
    "# JKo 4.3. modified by KOj 8.3."
   ]
  },
  {
   "cell_type": "code",
   "execution_count": 4,
   "metadata": {},
   "outputs": [],
   "source": [
    "import numpy as np\n",
    "\n",
    "def getArea(peak):\n",
    "    sum = np.sum(peak[:,1])\n",
    "    width = peak[len(peak)-1,0]-peak[0,0]\n",
    "#    print(sum)\n",
    "#    print(width)\n",
    "    return sum*width\n",
    "\n",
    "# KO 8.3."
   ]
  },
  {
   "cell_type": "code",
   "execution_count": 5,
   "metadata": {},
   "outputs": [],
   "source": [
    "import pandas as pd\n",
    "import numpy as np\n",
    "\n",
    "def getAllAreas(data, indices):\n",
    "#def getAllAreas(data, peaklist, identified):\n",
    "\n",
    "    n = len(indices)\n",
    "    areas = np.zeros(n)\n",
    "    for i in range(n):\n",
    "        peak = data[indices[i,0]:indices[i,1]+1,:]\n",
    "        areas[i] = getArea(peak)\n",
    "\n",
    "    return areas\n",
    "\n",
    "# KO 8.3."
   ]
  },
  {
   "cell_type": "code",
   "execution_count": 6,
   "metadata": {},
   "outputs": [],
   "source": [
    "import numpy as np\n",
    "# from scipy.stats import kurtosis, skew\n",
    "import pandas as pd\n",
    "\n",
    "# initialize list of lists \n",
    "#data = [['tom', 10], ['nick', 15], ['juli', 14]] \n",
    "  \n",
    "# Create the pandas DataFrame \n",
    "#df = pd.DataFrame(data, columns = ['Name', 'Age']) \n",
    "  \n",
    "# print dataframe. \n",
    "#df \n",
    "\n",
    "\n",
    "def getSkew(peak):\n",
    "    data=peak[:,1]\n",
    "    df = pd.DataFrame(data, columns = ['Hits'])\n",
    "#    print(df.skew(axis = 0))\n",
    "    skw = df.skew(axis = 0)\n",
    "\n",
    "    return skw\n",
    "\n",
    "# KO 9.3."
   ]
  },
  {
   "cell_type": "code",
   "execution_count": 7,
   "metadata": {},
   "outputs": [],
   "source": [
    "import pandas as pd\n",
    "import numpy as np\n",
    "\n",
    "def getAllSkews(data, indices):\n",
    "\n",
    "    n = len(indices)\n",
    "    skews = np.zeros(n)\n",
    "    for i in range(n):\n",
    "        peak = data[indices[i,0]:indices[i,1]+1,:]\n",
    "        skews[i] = getSkew(peak)\n",
    "\n",
    "    return skews\n",
    "\n",
    "# KO 9.3."
   ]
  },
  {
   "cell_type": "code",
   "execution_count": 39,
   "metadata": {},
   "outputs": [],
   "source": [
    "import pandas as pd\n",
    "import numpy as np\n",
    "\n",
    "def identifyPeaks(data, peakMeans, peakAreas, peakSkews, peaklist, th):\n",
    "    peaklist['observed'] = np.zeros(len(peaklist['mz']))\n",
    "    peaklist['peak'] = np.zeros(len(peaklist['mz']))\n",
    "    peaklist['area'] = np.zeros(len(peaklist['mz']))  \n",
    "    peaklist['skew'] = np.zeros(len(peaklist['mz']))\n",
    "##    peaklist['idx'] = np.zeros(len(peaklist['mz'])) \n",
    "    \n",
    "    trueValue = peaklist['mz'].to_numpy()     # grab only mz values from the peaklist\n",
    "#    print(\"len trueV \",len(trueValue))\n",
    "#    print(\"len areas \",len(peakAreas))\n",
    "#    print(\"len means \",len(peakMeans))\n",
    "    for i in range(len(trueValue)):\n",
    "        if min(abs(peakMeans - trueValue[i])) < th:      # there is at least one\n",
    "            ind = np.argmin(abs(peakMeans - trueValue[i]))\n",
    "            peaklist.iloc[i,2] = peakMeans[ind]\n",
    "            peaklist.iloc[i,3] = np.argmin(abs(peakMeans - trueValue[i]))\n",
    "            peaklist.iloc[i,4] = peakAreas[ind]\n",
    "            peaklist.iloc[i,5] = peakSkews[ind]\n",
    "##            peaklist.iloc[i,6] = peaklist.index.to_numpy()            \n",
    "# np.argmin: Returns the indices of the minimum values along an axis.   \n",
    "\n",
    "    unidentified = np.linspace(0, len(trueValue)-1, len(trueValue))\n",
    "    unidentified = unidentified[peaklist['observed'].to_numpy() == 0]\n",
    "  \n",
    "    identified = np.linspace(0, len(trueValue)-1, len(trueValue))\n",
    "    identified = identified[peaklist['observed'].to_numpy() != 0]    \n",
    "\n",
    "#    unidentified: observed is 0, because never got a new value\n",
    "\n",
    "    newpeaklist = peaklist.drop(unidentified)\n",
    "    print(\"Number of final peaks: \",len(newpeaklist))\n",
    "    print(newpeaklist)\n",
    "    return newpeaklist\n",
    "\n",
    "# New 4.3.  modified by KO 8.3."
   ]
  },
  {
   "cell_type": "code",
   "execution_count": 17,
   "metadata": {},
   "outputs": [],
   "source": [
    "# Method to read in one spectrum\n",
    "# A large number of averaged, denoised spectra are exported from Orbitool into folders\n",
    "# Exported with Antonio's \"all denoised\" button\n",
    "\n",
    "import numpy as np\n",
    "import pandas as pd\n",
    "\n",
    "import matplotlib.pyplot as plt\n",
    "import glob\n",
    "\n",
    "def readSpectrum(n):\n",
    "    dataDir = glob.glob(\"C:/datascienceproject/raw data/small mass deviation/deno201117n10/*.csv\")\n",
    "    fileName = dataDir[n]\n",
    "    print(\"File name: \",fileName)\n",
    "    df = pd.read_csv(fileName, sep=\",\")  # possible that 'sep' is not necessary here\n",
    "\n",
    "    print(\"Shape: {}, {}\".format(*df.shape))\n",
    "    print()\n",
    "    print()\n",
    "#print(df.iloc[0:3,:2])# Zero works here\n",
    "    data = df.iloc[0:,:2].to_numpy().astype(\"float64\")\n",
    "\n",
    "#fileName = \"data/N_minutes_60_N_spectra_10/spectrum_2020-00-17_17_11_07.csv\"  # JKoli's\n",
    "#return pd.read_csv(fileName).iloc[3:,:2].to_numpy().astype(\"float64\") JKo\n",
    "\n",
    "    return(data)\n",
    "# New 4.3. was modified 8.3. by KO\n"
   ]
  },
  {
   "cell_type": "code",
   "execution_count": 217,
   "metadata": {},
   "outputs": [
    {
     "name": "stdout",
     "output_type": "stream",
     "text": [
      "File name:  C:/datascienceproject/raw data/small mass deviation/deno201117n10\\2020-11-17T16-56-38.csv\n",
      "Shape: 1695, 2\n",
      "\n",
      "\n",
      "Number of final peaks:  80\n",
      "         formula          mz    observed  peak           area      skew\n",
      "1           O3N-   61.988366   61.987217   3.0  135013.124688  7.808247\n",
      "2       O3N[15]-   62.985401   62.985425   7.0      18.043591  0.948547\n",
      "3      O2O[17]N-   62.992584   62.992610   8.0       5.774912  0.906888\n",
      "4      O2O[18]N-   63.992613   63.992626   9.0      40.694883  1.075982\n",
      "9         C2HO4-   88.988032   88.988123  12.0      10.202756  0.923892\n",
      "..           ...         ...         ...   ...            ...       ...\n",
      "266   C11H16O9N-  306.083055  306.082956  92.0       2.681241  0.343627\n",
      "269  C10H14O10N-  308.062319  308.062309  93.0      17.935707  0.546700\n",
      "274  C10H16O10N-  310.077969  310.077769  94.0      10.935164  0.130840\n",
      "279  C11H16O10N-  322.077969  322.077918  95.0       2.598019  0.280398\n",
      "282  C10H14O11N-  324.057234  324.057064  96.0       1.240492 -0.332631\n",
      "\n",
      "[80 rows x 6 columns]\n"
     ]
    },
    {
     "data": {
      "image/png": "[encoded data removed]",
      "text/plain": [
       "<Figure size 432x288 with 1 Axes>"
      ]
     },
     "metadata": {
      "needs_background": "light"
     },
     "output_type": "display_data"
    },
    {
     "name": "stdout",
     "output_type": "stream",
     "text": [
      "         formula          mz    observed  peak           area      skew  idx\n",
      "1           O3N-   61.988366   61.987217   3.0  135013.124688  7.808247    1\n",
      "2       O3N[15]-   62.985401   62.985425   7.0      18.043591  0.948547    2\n",
      "3      O2O[17]N-   62.992584   62.992610   8.0       5.774912  0.906888    3\n",
      "4      O2O[18]N-   63.992613   63.992626   9.0      40.694883  1.075982    4\n",
      "9         C2HO4-   88.988032   88.988123  12.0      10.202756  0.923892    9\n",
      "..           ...         ...         ...   ...            ...       ...  ...\n",
      "266   C11H16O9N-  306.083055  306.082956  92.0       2.681241  0.343627  266\n",
      "269  C10H14O10N-  308.062319  308.062309  93.0      17.935707  0.546700  269\n",
      "274  C10H16O10N-  310.077969  310.077769  94.0      10.935164  0.130840  274\n",
      "279  C11H16O10N-  322.077969  322.077918  95.0       2.598019  0.280398  279\n",
      "282  C10H14O11N-  324.057234  324.057064  96.0       1.240492 -0.332631  282\n",
      "\n",
      "[80 rows x 7 columns]\n"
     ]
    },
    {
     "data": {
      "image/png": "[encoded data removed]",
      "text/plain": [
       "<Figure size 432x288 with 1 Axes>"
      ]
     },
     "metadata": {
      "needs_background": "light"
     },
     "output_type": "display_data"
    },
    {
     "data": {
      "image/png": "[encoded data removed]",
      "text/plain": [
       "<Figure size 432x288 with 1 Axes>"
      ]
     },
     "metadata": {
      "needs_background": "light"
     },
     "output_type": "display_data"
    },
    {
     "name": "stderr",
     "output_type": "stream",
     "text": [
      "C:\\Users\\kojal\\anaconda3\\envs\\orbitool\\lib\\site-packages\\pandas\\core\\series.py:726: RuntimeWarning: invalid value encountered in log\n",
      "  result = getattr(ufunc, method)(*inputs, **kwargs)\n"
     ]
    },
    {
     "data": {
      "image/png": "[encoded data removed]",
      "text/plain": [
       "<Figure size 432x288 with 1 Axes>"
      ]
     },
     "metadata": {
      "needs_background": "light"
     },
     "output_type": "display_data"
    },
    {
     "name": "stdout",
     "output_type": "stream",
     "text": [
      "\n",
      "If skewness is less than -1 or greater than 1, the distribution is highly skewed.\n",
      "If skewness is between -1 and -0.5 or between 0.5 and 1, the distribution is moderately skewed.\n",
      "If skewness is between -0.5 and 0.5, the distribution is approximately symmetric.\n",
      "\n",
      "Negative skewness: peak top is to the right from the mean (bigger tail on the left).\n"
     ]
    }
   ],
   "source": [
    "# Plot a peak etc.\n",
    "\n",
    "import matplotlib.pyplot as plt\n",
    "import pandas as pd\n",
    "import numpy as np\n",
    "\n",
    "# this short method not working\n",
    "def add_labels(line):\n",
    "    x,y=line.get_data()\n",
    "    labels=map(','.join,zip(map(lambda s: '%g'%s,x),map(lambda s: '%g'%s,y)))\n",
    "    map(plt.text,x,y,labels)\n",
    "\n",
    "data = readSpectrum(3)    # Read the nth file in the folder of spectra\n",
    "peakindices = findAllPeakIndices(data)\n",
    "peakMeans = getAllMeans(data,peakindices)\n",
    "peakAreas = getAllAreas(data,peakindices)\n",
    "peakSkews = getAllSkews(data,peakindices)\n",
    "\n",
    "#peaklist = pd.read_csv(\"peaklist.csv\")             # was JKo\n",
    "#peaklist = identifyPeaks(data, peaklist, 0.002)    # was JKo\n",
    "\n",
    "ionFolder = \"C:/Users/kojal/pyharj/DSpro/KOionfolder/\"\n",
    "ionFileName = ionFolder + \"Allions1ex.csv\"\n",
    "peaklist = identifyPeaks(data, peakMeans, peakAreas, peakSkews, pd.read_csv(ionFileName, sep=\",\"), 0.002)\n",
    "\n",
    "# Choose peak   ( i:th peak from the left in the graph, i starts from zero)\n",
    "i = 0\n",
    "ii = int(peaklist.iloc[i,3])\n",
    "peak = data[peakindices[ii,0]:peakindices[ii,1]+1]\n",
    "\n",
    "plt.plot(peak[:,0],peak[:,1])\n",
    "plt.vlines(peaklist.iloc[i,2],0,max(peak[:,1]))\n",
    "plt.vlines(peaklist.iloc[i,1],0,max(peak[:,1]), color = \"green\")\n",
    "plt.legend([\"Data\",\"Mean from data\",\"True mean\"])\n",
    "plt.title(peaklist.iloc[i,0])\n",
    "plt.show()\n",
    "\n",
    "peaklist['idx'] = peaklist.index.to_numpy()    # Index becomes column 6, too\n",
    "#print(peaklist.iloc[:,4:7])\n",
    "print(peaklist)\n",
    "\n",
    "xmz = peaklist.iloc[:,1]\n",
    "ydiff = peaklist.iloc[:,2]-peaklist.iloc[:,1]\n",
    "#nam = peaklist.iloc[:,3].astype(int) # this idea not working yet, so:\n",
    "nam = peaklist.iloc[:,0]\n",
    "pit = len(xmz)\n",
    "\n",
    "y = ydiff[:pit]\n",
    "x = xmz[:pit]\n",
    "k = nam[:pit]\n",
    "fig = plt.figure()\n",
    "#ax = fig.add_subplot(111)   # not working\n",
    "plt.scatter(x,y)\n",
    "\n",
    "# To see the names of compounds in the graph, uncomment these lines:\n",
    "for i,j,k in zip(x,y,k):\n",
    "    ax.annotate(str(k),xy=(i+0.4,j), fontsize = 9)\n",
    "\n",
    "plt.xlabel(\"Molar mass (mz)\")\n",
    "plt.ylabel(\"Error (Observed mz -  true mz)\")\n",
    "#plt.figure(figsize=(3,2))           # not working right\n",
    "#plt.figure(figsize=(6, 4), dpi=70)  # not working right\n",
    "plt.show()\n",
    "\n",
    "\n",
    "ylogarea = np.log(peaklist.iloc[:,4])\n",
    "#plt.scatter(ylogarea,ydiff)   # Old vers\n",
    "#plt.show()                    # Old vers\n",
    "x = ylogarea[:pit]\n",
    "y = ydiff[:pit]\n",
    "k = nam[:pit]\n",
    "fig = plt.figure()\n",
    "#ax = fig.add_subplot(111)  # not working\n",
    "plt.scatter(x,y)\n",
    "# To see the names of compounds in the graph, uncomment these lines:\n",
    "#for i,j,k in zip(x,y,k):\n",
    "#    ax.annotate(str(k),xy=(i+0.4,j), fontsize = 9)\n",
    "\n",
    "plt.xlabel(\"Log(peak area)\")\n",
    "plt.ylabel(\"Error (Observed mz -  true mz)\")\n",
    "plt.show()\n",
    "\n",
    "xskew = np.log(peaklist.iloc[:,5])\n",
    "x = xskew[:pit]\n",
    "y = ydiff[:pit]\n",
    "k = nam[:pit]\n",
    "fig = plt.figure()\n",
    "# ax = fig.add_subplot(111)  # not working\n",
    "plt.scatter(x,y)\n",
    "# To see the names of compounds in the graph, uncomment these lines:\n",
    "#for i,j,k in zip(x,y,k):\n",
    "#    ax.annotate(str(k),xy=(i+0.4,j), fontsize = 9)\n",
    "\n",
    "plt.xlabel(\"Peak skewness\")\n",
    "plt.ylabel(\"Error (Observed mz -  true mz)\")\n",
    "plt.show()\n",
    "\n",
    "print()\n",
    "print(\"If skewness is less than -1 or greater than 1, the distribution is highly skewed.\")\n",
    "print(\"If skewness is between -1 and -0.5 or between 0.5 and 1, the distribution is moderately skewed.\")\n",
    "print(\"If skewness is between -0.5 and 0.5, the distribution is approximately symmetric.\")\n",
    "print()\n",
    "print(\"Negative skewness: peak top is to the right from the mean (bigger tail on the left).\")\n",
    "\n",
    "# JKO 4.3. modified by KOj 19.3."
   ]
  },
  {
   "cell_type": "code",
   "execution_count": 342,
   "metadata": {},
   "outputs": [
    {
     "name": "stdout",
     "output_type": "stream",
     "text": [
      "\n"
     ]
    }
   ],
   "source": [
    "print(\"\")"
   ]
  },
  {
   "cell_type": "code",
   "execution_count": 104,
   "metadata": {},
   "outputs": [],
   "source": [
    "# example\n"
   ]
  },
  {
   "cell_type": "code",
   "execution_count": null,
   "metadata": {},
   "outputs": [],
   "source": []
  },
  {
   "cell_type": "code",
   "execution_count": null,
   "metadata": {},
   "outputs": [],
   "source": []
  }
 ],
 "metadata": {
  "kernelspec": {
   "display_name": "Python 3",
   "language": "python",
   "name": "python3"
  },
  "language_info": {
   "codemirror_mode": {
    "name": "ipython",
    "version": 3
   },
   "file_extension": ".py",
   "mimetype": "text/x-python",
   "name": "python",
   "nbconvert_exporter": "python",
   "pygments_lexer": "ipython3",
   "version": "3.6.4"
  }
 },
 "nbformat": 4,
 "nbformat_minor": 4
}
