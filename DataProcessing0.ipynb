{
 "cells": [
  {
   "cell_type": "code",
   "execution_count": 280,
   "metadata": {},
   "outputs": [],
   "source": [
    "import numpy as np\n",
    "\n",
    "# This method finds the location of all peaks in the full spectrum\n",
    "# Output (Indices) contains the start index and end index of each peak\n",
    "\n",
    "def findAllPeakIndices(data):\n",
    "    n = int(round(sum(data[:,1] == 0)/2))\n",
    "    \n",
    "#    print(sum(data[:,1] == 0))  # if this was 217 => n=108\n",
    "# n is the number of zeros/2 (but that is not the final count..)\n",
    "# output is index ranges: each peak starts and ends with a zero\n",
    "# so that there are two zeros between each peak\n",
    "\n",
    "    indices = np.zeros([n,2], dtype=\"uint32\")\n",
    "    a = False\n",
    "    ii = 0\n",
    "\n",
    "    for i in range(len(data[:,1])-1):\n",
    "        if data[i,1] == 0 and a:\n",
    "            indices[ii, 1] = i - 1\n",
    "            if ii != n:\n",
    "                indices[ii+1, 0] = i\n",
    "            ii += 1\n",
    "        a = data[i,1] == 0\n",
    "    last = n-sum(indices[:,0]>=indices[:,1])  # notice '='\n",
    "#    print(last)  = 106\n",
    "    indices = indices[0:last+1,:]\n",
    "    indices[last, 1] = len(data[:,0]) - 1\n",
    "#    print(len(indices))   # why now 107?\n",
    "# OK, if you have only one zero, then it is not a separation mark for peaks \n",
    "    return indices\n",
    "\n",
    "# Essentially same as JKo 4.3."
   ]
  },
  {
   "cell_type": "code",
   "execution_count": 155,
   "metadata": {},
   "outputs": [],
   "source": [
    "#import numpy as np\n",
    "#import pandas as pd\n",
    "#\n",
    "#def readFile(fileName):\n",
    "#    return pd.read_csv(fileName).iloc[3:,:2].to_numpy().astype(\"float64\")\n",
    "\n",
    "# New 4.3."
   ]
  },
  {
   "cell_type": "code",
   "execution_count": 256,
   "metadata": {},
   "outputs": [],
   "source": [
    "from scipy.optimize import leastsq\n",
    "import numpy as np\n",
    "import math\n",
    "\n",
    "def getMean(peak):\n",
    "    mu = np.average(peak[:,0], weights=peak[:,1])  # painotettu keskiarvo\n",
    "    sigma = (mu/280000)/(2*np.log(2))\n",
    "    \n",
    "#    sigma = (mu/280000)/(2*math.sqrt(2*np.log(2)))               # is the same as above\n",
    "#    fitfunc = lambda p, x: p[0]*np.exp(-0.5*((x-p[1])/sigma)**2) # is the same as below\n",
    "\n",
    "    fitfunc  = lambda p, x: p[0]*np.exp(-((x-p[1])/(2*sigma))**2)\n",
    "    errfunc  = lambda p, x, y: (y - fitfunc(p, x))\n",
    "    init  = [1.0, mu]\n",
    "    out = leastsq(errfunc, init, args=(peak[:,0], peak[:,1]))\n",
    "    c = out[0]\n",
    "    return c[1]\n",
    "\n",
    "# Still same as 4.3. JKo ( #-lines above give the same result )"
   ]
  },
  {
   "cell_type": "code",
   "execution_count": 281,
   "metadata": {},
   "outputs": [],
   "source": [
    "import numpy as np\n",
    "\n",
    "def getAllMeans(peaks,indices):\n",
    "#    indices = findAllPeakIndices(peaks)\n",
    "    n = len(indices)  \n",
    "\n",
    "    means = np.zeros(n)\n",
    "    for i in range(n):\n",
    "        peak = peaks[indices[i,0]:indices[i,1]+1,:]\n",
    "        means[i] = getMean(peak)\n",
    "    return means\n",
    "\n",
    "# JKo 4.3. modified by KOj 8.3."
   ]
  },
  {
   "cell_type": "code",
   "execution_count": 258,
   "metadata": {},
   "outputs": [],
   "source": [
    "import numpy as np\n",
    "import math\n",
    "\n",
    "def getAreas(peak):\n",
    "    sum = np.sum(peak[:,1])\n",
    "    width = peak[len(peak)-1,0]-peak[0,0]\n",
    "#    print(sum)\n",
    "#    print(width)\n",
    "    return sum*width\n",
    "\n",
    "# KO 8.3."
   ]
  },
  {
   "cell_type": "code",
   "execution_count": 309,
   "metadata": {},
   "outputs": [],
   "source": [
    "import pandas as pd\n",
    "import numpy as np\n",
    "\n",
    "def getAllAreas(data, indices):\n",
    "#def getAllAreas(data, peaklist, identified):\n",
    "\n",
    "    n = len(indices)\n",
    "    areas = np.zeros(n)\n",
    "    for i in range(n):\n",
    "        peak = data[indices[i,0]:indices[i,1]+1,:]\n",
    "        areas[i] = getAreas(peak)\n",
    "\n",
    "    return areas\n",
    "\n",
    "# KO 8.3."
   ]
  },
  {
   "cell_type": "code",
   "execution_count": 332,
   "metadata": {},
   "outputs": [],
   "source": [
    "import pandas as pd\n",
    "import numpy as np\n",
    "\n",
    "def identifyPeaks(data, peakMeans, peakAreas, peaklist, th):\n",
    "    peaklist['observed'] = np.zeros(len(peaklist['mz']))\n",
    "    peaklist['peak'] = np.zeros(len(peaklist['mz']))\n",
    "    peaklist['area'] = np.zeros(len(peaklist['mz']))  \n",
    "\n",
    "    trueValue = peaklist['mz'].to_numpy()     # grab only mz values from the peaklist\n",
    "#    print(\"len trueV \",len(trueValue))\n",
    "#    print(\"len areas \",len(peakAreas))\n",
    "#    print(\"len means \",len(peakMeans))\n",
    "    for i in range(len(trueValue)):\n",
    "        if min(abs(peakMeans - trueValue[i])) < th:      # there is at least one\n",
    "            ind = np.argmin(abs(peakMeans - trueValue[i]))\n",
    "            peaklist.iloc[i,2] = peakMeans[ind]\n",
    "            peaklist.iloc[i,3] = np.argmin(abs(peakMeans - trueValue[i]))\n",
    "            peaklist.iloc[i,4] = peakAreas[ind]\n",
    "     \n",
    "# np.argmin: Returns the indices of the minimum values along an axis.   \n",
    "\n",
    "    unidentified = np.linspace(0, len(trueValue)-1, len(trueValue))\n",
    "    unidentified = unidentified[peaklist['observed'].to_numpy() == 0]\n",
    "  \n",
    "    identified = np.linspace(0, len(trueValue)-1, len(trueValue))\n",
    "    identified = identified[peaklist['observed'].to_numpy() != 0]    \n",
    "\n",
    "#    unidentified: observed is 0, because never got a new value\n",
    "\n",
    "    newpeaklist = peaklist.drop(unidentified)\n",
    "    print(\"Number of final peaks: \",len(newpeaklist))\n",
    "    print(newpeaklist)\n",
    "    return newpeaklist\n",
    "\n",
    "# New 4.3.  modified by KO 8.3."
   ]
  },
  {
   "cell_type": "code",
   "execution_count": 339,
   "metadata": {},
   "outputs": [],
   "source": [
    "# Method to read in one spectrum\n",
    "# A large number of averaged, denoised spectra are exported from Orbitool into folders\n",
    "# Exported with Antonio's \"all denoised\" button\n",
    "\n",
    "import numpy as np\n",
    "import pandas as pd\n",
    "\n",
    "import matplotlib.pyplot as plt\n",
    "import glob\n",
    "\n",
    "def readSpectrum(n):\n",
    "    dataDir = glob.glob(\"C:/datascienceproject/raw data/small mass deviation/deno201117n10/*.csv\")\n",
    "    fileName = dataDir[n]\n",
    "    print(\"File name: \",fileName)\n",
    "    df = pd.read_csv(fileName, sep=\",\")  # possible that 'sep' is not necessary here\n",
    "\n",
    "    print(\"Shape: {}, {}\".format(*df.shape))\n",
    "    print()\n",
    "    print()\n",
    "#print(df.iloc[0:3,:2])# Zero works here\n",
    "    data = df.iloc[0:,:2].to_numpy().astype(\"float64\")\n",
    "\n",
    "#fileName = \"data/N_minutes_60_N_spectra_10/spectrum_2020-00-17_17_11_07.csv\"  # JKoli's\n",
    "#return pd.read_csv(fileName).iloc[3:,:2].to_numpy().astype(\"float64\") JKo\n",
    "\n",
    "    return(data)\n",
    "# New 4.3. was modified 8.3. by KO\n"
   ]
  },
  {
   "cell_type": "code",
   "execution_count": 345,
   "metadata": {},
   "outputs": [
    {
     "name": "stdout",
     "output_type": "stream",
     "text": [
      "File name:  C:/datascienceproject/raw data/small mass deviation/deno201117n10\\2020-11-17T16-56-28.csv\n",
      "Shape: 1672, 2\n",
      "\n",
      "\n",
      "Number of final peaks:  76\n",
      "         formula          mz    observed   peak           area\n",
      "1           O3N-   61.988366   61.988376    5.0  113563.785121\n",
      "2       O3N[15]-   62.985401   62.985418    9.0      20.549758\n",
      "3      O2O[17]N-   62.992584   62.992607   10.0       4.222421\n",
      "4      O2O[18]N-   63.992613   63.992662   11.0      42.458007\n",
      "8        C4H5O2-   85.029503   85.029585   14.0       0.191558\n",
      "..           ...         ...         ...    ...            ...\n",
      "262  C14H16O5NF-  297.101799  297.101801   96.0      14.117933\n",
      "269  C10H14O10N-  308.062319  308.062228   98.0       5.219511\n",
      "274  C10H16O10N-  310.077969  310.077775   99.0       0.778989\n",
      "279  C11H16O10N-  322.077969  322.078011  100.0       5.699218\n",
      "282  C10H14O11N-  324.057234  324.057105  101.0       6.999349\n",
      "\n",
      "[76 rows x 5 columns]\n"
     ]
    },
    {
     "data": {
      "image/png": "[encoded data removed]",
      "text/plain": [
       "<Figure size 432x288 with 1 Axes>"
      ]
     },
     "metadata": {
      "needs_background": "light"
     },
     "output_type": "display_data"
    },
    {
     "data": {
      "image/png": "[encoded data removed]",
      "text/plain": [
       "<Figure size 432x288 with 1 Axes>"
      ]
     },
     "metadata": {
      "needs_background": "light"
     },
     "output_type": "display_data"
    },
    {
     "name": "stdout",
     "output_type": "stream",
     "text": [
      "Above: (observed mz > true mz) as a function of true mz\n"
     ]
    },
    {
     "data": {
      "image/png": "[encoded data removed]",
      "text/plain": [
       "<Figure size 432x288 with 1 Axes>"
      ]
     },
     "metadata": {
      "needs_background": "light"
     },
     "output_type": "display_data"
    },
    {
     "name": "stdout",
     "output_type": "stream",
     "text": [
      "Above: (observed mz > true mz) as a function of log(peak area)\n"
     ]
    }
   ],
   "source": [
    "# Plot a peak etc.\n",
    "\n",
    "import matplotlib.pyplot as plt\n",
    "import pandas as pd\n",
    "import numpy as np\n",
    "\n",
    "data = readSpectrum(2)    # Read the nth file in the folder of spectra\n",
    "peakindices = findAllPeakIndices(data)\n",
    "peakMeans = getAllMeans(data,peakindices)\n",
    "peakAreas = getAllAreas(data,peakindices)\n",
    "\n",
    "#peaklist = pd.read_csv(\"peaklist.csv\")             # JKo\n",
    "#peaklist = identifyPeaks(data, peaklist, 0.002)    # JKo\n",
    "\n",
    "ionFileName = \"C:/Users/kojal/pyharj/DSpro/Allions1ex.csv\"\n",
    "peaklist = identifyPeaks(data, peakMeans, peakAreas, pd.read_csv(ionFileName, sep=\",\"), 0.002)\n",
    "\n",
    "# Choose peak   ( i:th peak from the left, i starts from zero)\n",
    "i = 0\n",
    "ii = int(peaklist.iloc[i,3])\n",
    "peak = data[peakindices[ii,0]:peakindices[ii,1]+1]\n",
    "\n",
    "plt.plot(peak[:,0],peak[:,1])\n",
    "plt.vlines(peaklist.iloc[i,2],0,max(peak[:,1]))\n",
    "plt.vlines(peaklist.iloc[i,1],0,max(peak[:,1]), color = \"green\")\n",
    "plt.legend([\"Data\",\"Mean from data\",\"True mean\"])\n",
    "plt.title(peaklist.iloc[i,0])\n",
    "plt.show()\n",
    "\n",
    "xmz = peaklist.iloc[:,1]\n",
    "ydiff = peaklist.iloc[:,2]-peaklist.iloc[:,1]\n",
    "plt.scatter(xmz,ydiff)\n",
    "plt.show()\n",
    "print(\"Above: (observed mz > true mz) as a function of true mz\")\n",
    "\n",
    "ylogarea = np.log(peaklist.iloc[:,4])\n",
    "plt.scatter(ylogarea,ydiff)\n",
    "plt.show()\n",
    "print(\"Above: (observed mz > true mz) as a function of log(peak area)\")\n",
    "# JKO 4.3. modified by KOj 8.3."
   ]
  },
  {
   "cell_type": "code",
   "execution_count": 342,
   "metadata": {},
   "outputs": [
    {
     "name": "stdout",
     "output_type": "stream",
     "text": [
      "\n"
     ]
    }
   ],
   "source": [
    "print(\"\")"
   ]
  },
  {
   "cell_type": "code",
   "execution_count": 104,
   "metadata": {},
   "outputs": [],
   "source": [
    "# example\n"
   ]
  },
  {
   "cell_type": "code",
   "execution_count": null,
   "metadata": {},
   "outputs": [],
   "source": []
  },
  {
   "cell_type": "code",
   "execution_count": null,
   "metadata": {},
   "outputs": [],
   "source": []
  }
 ],
 "metadata": {
  "kernelspec": {
   "display_name": "Python 3",
   "language": "python",
   "name": "python3"
  },
  "language_info": {
   "codemirror_mode": {
    "name": "ipython",
    "version": 3
   },
   "file_extension": ".py",
   "mimetype": "text/x-python",
   "name": "python",
   "nbconvert_exporter": "python",
   "pygments_lexer": "ipython3",
   "version": "3.8.5"
  }
 },
 "nbformat": 4,
 "nbformat_minor": 4
}
